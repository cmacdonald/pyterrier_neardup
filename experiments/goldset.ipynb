{
 "metadata": {
  "language_info": {
   "codemirror_mode": {
    "name": "ipython",
    "version": 3
   },
   "file_extension": ".py",
   "mimetype": "text/x-python",
   "name": "python",
   "nbconvert_exporter": "python",
   "pygments_lexer": "ipython3",
   "version": "3.6.10-final"
  },
  "orig_nbformat": 2,
  "kernelspec": {
   "name": "python3",
   "display_name": "Python 3"
  }
 },
 "nbformat": 4,
 "nbformat_minor": 2,
 "cells": [
  {
   "cell_type": "code",
   "execution_count": null,
   "metadata": {},
   "outputs": [],
   "source": [
    "import pyterrier as pt\n",
    "pt.init()"
   ]
  },
  {
   "cell_type": "code",
   "execution_count": null,
   "metadata": {},
   "outputs": [],
   "source": [
    "SOURCEDIR=\"/Users/craigm/Downloads/GoldSetOfDuplicates\""
   ]
  },
  {
   "cell_type": "code",
   "execution_count": null,
   "metadata": {},
   "outputs": [],
   "source": [
    "def makeHash(corpus_files, mhs):\n",
    "    Arrays = pt.autoclass(\"java.util.Arrays\")\n",
    "    corpus_file_list = Arrays.asList(corpus_files)\n",
    "    print(corpus_file_list.toString())\n",
    "    trec_properties = {\n",
    "        \"TrecDocTags.doctag\": \"DOC\",\n",
    "        \"TrecDocTags.idtag\": \"DOCNO\",\n",
    "        \"TrecDocTags.skip\": \"DOCHDR\",\n",
    "        \"TrecDocTags.casesensitive\": \"false\",\n",
    "        \"trec.collection.class\": \"TRECCollection\",\n",
    "        \"indexer.meta.forward.keylens\": \"200\"\n",
    "    }\n",
    "    for k,v in trec_properties.items():\n",
    "        pt.ApplicationSetup.setProperty(k, v)\n",
    "    corpus = pt.autoclass(\"org.terrier.indexing.SimpleFileCollection\")(\n",
    "        corpus_file_list, \n",
    "        False)\n",
    "\n",
    "    def _get_text(d):\n",
    "        terms =[]\n",
    "        while not d.endOfDocument():\n",
    "            t = d.getNextTerm()\n",
    "            if t is None:\n",
    "                continue\n",
    "            terms.append(t)\n",
    "        return \" \".join(terms)\n",
    "\n",
    "    def _corpus_iter():\n",
    "        while corpus.nextDocument():\n",
    "            doc = corpus.getDocument()\n",
    "            if doc is None:\n",
    "                continue\n",
    "            text = _get_text(doc)\n",
    "            docno = doc.getProperty(\"filename\")\n",
    "            print(docno)\n",
    "            yield docno, text\n",
    "\n",
    "    mhs.index(_corpus_iter())\n",
    "    return mhs"
   ]
  },
  {
   "cell_type": "code",
   "execution_count": null,
   "metadata": {
    "tags": [
     "outputPrepend"
    ]
   },
   "outputs": [],
   "source": [
    "from pyterrier_neardup.shingler import MinHashShingler\n",
    "mhs = makeHash(SOURCEDIR, MinHashShingler())\n"
   ]
  },
  {
   "cell_type": "code",
   "execution_count": null,
   "metadata": {},
   "outputs": [],
   "source": [
    "queryDocnos = [ docno for docno in pt.Utils.get_files_in_dir(SOURCEDIR) if \"original\" in docno]\n",
    "queryDocnos"
   ]
  },
  {
   "cell_type": "code",
   "execution_count": null,
   "metadata": {},
   "outputs": [],
   "source": [
    "import pandas as pd, numpy as np\n",
    "queries = pd.DataFrame(np.array(queryDocnos).reshape(-1,1), columns=[\"docno\"])\n",
    "queries"
   ]
  },
  {
   "cell_type": "code",
   "execution_count": null,
   "metadata": {},
   "outputs": [],
   "source": [
    "def get_res(mhs, queries):\n",
    "    df = mhs.transform(queries)\n",
    "    df = df.rename(columns={\"docno_x\" : \"qid\", \"docno_y\" : \"docno\"})[[\"qid\", \"docno\", \"score\"]]\n",
    "    df = pt.model.add_ranks(df)\n",
    "    return df\n",
    "get_res(mhs, queries)"
   ]
  },
  {
   "cell_type": "code",
   "execution_count": null,
   "metadata": {},
   "outputs": [],
   "source": [
    "mhs.sim_threshold = 0.6"
   ]
  },
  {
   "cell_type": "code",
   "execution_count": null,
   "metadata": {},
   "outputs": [],
   "source": [
    "from collections import defaultdict\n",
    "qrels = defaultdict(dict)\n",
    "import os\n",
    "for file in pt.Utils.get_files_in_dir(SOURCEDIR):\n",
    "    dir = os.path.dirname(file)\n",
    "    base = os.path.basename(file)\n",
    "    if base == \"original.htm\":\n",
    "        continue\n",
    "    qrels[dir + \"/original.htm\"][file] = 1\n",
    "#qrels\n"
   ]
  },
  {
   "cell_type": "code",
   "execution_count": null,
   "metadata": {
    "tags": []
   },
   "outputs": [],
   "source": [
    "scan={}\n",
    "from tqdm import tqdm\n",
    "for t in tqdm( list(x / 10 for x in range(0,10)) ):\n",
    "    mhs.sim_threshold = t\n",
    "    scan[t] = pt.Utils.evaluate(get_res(mhs, queries), qrels, [\"set_F\"]).get(\"set_F\", 0)"
   ]
  },
  {
   "cell_type": "code",
   "execution_count": null,
   "metadata": {},
   "outputs": [],
   "source": [
    "scan"
   ]
  },
  {
   "cell_type": "code",
   "execution_count": null,
   "metadata": {
    "tags": [
     "outputPrepend"
    ]
   },
   "outputs": [],
   "source": [
    "from pyterrier_neardup.snapy_lsh import SnapyMinHash\n",
    "pt.Utils.evaluate(get_res(makeHash(SOURCEDIR, SnapyMinHash()), queries), qrels, [\"set_F\"]).get(\"set_F\", 0)"
   ]
  },
  {
   "cell_type": "code",
   "execution_count": null,
   "metadata": {},
   "outputs": [],
   "source": []
  }
 ]
}